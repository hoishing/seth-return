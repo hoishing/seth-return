{
 "cells": [
  {
   "cell_type": "code",
   "execution_count": 14,
   "metadata": {},
   "outputs": [],
   "source": [
    "%load_ext memory_profiler\n",
    "from dotenv import load_dotenv\n",
    "from langchain.llms import OpenAI\n",
    "from langchain.document_loaders import UnstructuredEPubLoader, PyPDFLoader, UnstructuredWordDocumentLoader, TextLoader\n",
    "from pathlib import Path\n",
    "from langchain.indexes import VectorstoreIndexCreator"
   ]
  },
  {
   "cell_type": "code",
   "execution_count": 7,
   "metadata": {},
   "outputs": [],
   "source": [
    "corpus = Path('corpus/')"
   ]
  },
  {
   "cell_type": "code",
   "execution_count": 13,
   "metadata": {},
   "outputs": [
    {
     "data": {
      "text/plain": [
       "[<langchain.document_loaders.word_document.UnstructuredWordDocumentLoader at 0x10f7ba020>,\n",
       " <langchain.document_loaders.word_document.UnstructuredWordDocumentLoader at 0x10f69d750>,\n",
       " <langchain.document_loaders.word_document.UnstructuredWordDocumentLoader at 0x11e82c4c0>,\n",
       " <langchain.document_loaders.epub.UnstructuredEPubLoader at 0x105d48b50>,\n",
       " <langchain.document_loaders.pdf.PyPDFLoader at 0x11e82f910>,\n",
       " <langchain.document_loaders.pdf.PyPDFLoader at 0x105ceb370>,\n",
       " <langchain.document_loaders.pdf.PyPDFLoader at 0x105ceb790>,\n",
       " <langchain.document_loaders.pdf.PyPDFLoader at 0x105cebee0>,\n",
       " <langchain.document_loaders.text.TextLoader at 0x105ceb700>,\n",
       " <langchain.document_loaders.text.TextLoader at 0x12ea40910>]"
      ]
     },
     "execution_count": 13,
     "metadata": {},
     "output_type": "execute_result"
    }
   ],
   "source": [
    "loader_types = dict(\n",
    "    doc = UnstructuredWordDocumentLoader,\n",
    "    epub = UnstructuredEPubLoader,\n",
    "    pdf = PyPDFLoader,\n",
    "    txt = TextLoader\n",
    ")\n",
    "\n",
    "loaders = []\n",
    "\n",
    "for ext, loader in loader_types.items():\n",
    "    loaders += [loader(str(path)) for path in corpus.glob(f'*.{ext}')]"
   ]
  },
  {
   "cell_type": "code",
   "execution_count": 16,
   "metadata": {},
   "outputs": [
    {
     "name": "stdout",
     "output_type": "stream",
     "text": [
      "convert /Users/shing/gh/seth-return/corpus/The Unknown Reality 1.doc -> /private/var/folders/y8/tf0pjy6j6dv5bml1rvz8rcx00000gn/T/tmpg9k9qpew/The Unknown Reality 1.docx using filter : MS Word 2007 XML\n",
      "convert /Users/shing/gh/seth-return/corpus/The Unknown Reality 2.doc -> /private/var/folders/y8/tf0pjy6j6dv5bml1rvz8rcx00000gn/T/tmpybtb9c8l/The Unknown Reality 2.docx using filter : MS Word 2007 XML\n",
      "convert /Users/shing/gh/seth-return/corpus/The Nature of the Psyche.doc -> /private/var/folders/y8/tf0pjy6j6dv5bml1rvz8rcx00000gn/T/tmpjn196osc/The Nature of the Psyche.docx using filter : MS Word 2007 XML\n"
     ]
    },
    {
     "name": "stderr",
     "output_type": "stream",
     "text": [
      "Using embedded DuckDB without persistence: data will be transient\n"
     ]
    }
   ],
   "source": [
    "index = VectorstoreIndexCreator().from_loaders(loaders)"
   ]
  },
  {
   "cell_type": "code",
   "execution_count": 24,
   "metadata": {},
   "outputs": [
    {
     "name": "stdout",
     "output_type": "stream",
     "text": [
      "peak memory: 433.06 MiB, increment: 0.00 MiB\n"
     ]
    }
   ],
   "source": [
    "%memit"
   ]
  },
  {
   "cell_type": "code",
   "execution_count": 23,
   "metadata": {},
   "outputs": [],
   "source": [
    "load_dotenv()\n",
    "llm = OpenAI(temperature=0.5)"
   ]
  },
  {
   "cell_type": "code",
   "execution_count": 43,
   "metadata": {},
   "outputs": [],
   "source": [
    "prompt = \"\"\"\n",
    "You act as the author of the data provided, try to answer in the tone of the author. \n",
    "And use the provided data as the context to answer the question.\n",
    "Think in a step by step way, double check if answers align with the provided data.\n",
    "\n",
    "my question is: {question}\n",
    "\"\"\""
   ]
  },
  {
   "cell_type": "code",
   "execution_count": 45,
   "metadata": {},
   "outputs": [
    {
     "name": "stdout",
     "output_type": "stream",
     "text": [
      "peak memory: 307.00 MiB, increment: 0.12 MiB\n"
     ]
    },
    {
     "data": {
      "text/plain": [
       "' It is difficult to make a definitive statement about the safety of nuclear power. While some utility companies have had issues with their nuclear plants, other companies have excellent safety records. It is important to remember that when creating and experiencing a challenge, consciousness may choose a predominantly positive or negative focus, or it may seek to achieve a balance. Ultimately, it is up to individuals to decide if they trust the energy of their own lives and accept it as a gift of life.'"
      ]
     },
     "execution_count": 45,
     "metadata": {},
     "output_type": "execute_result"
    }
   ],
   "source": [
    "%memit\n",
    "question = \"is nuclear power safe to use?\"\n",
    "index.query(\n",
    "    prompt.format(question=question)\n",
    ")"
   ]
  },
  {
   "cell_type": "code",
   "execution_count": null,
   "metadata": {},
   "outputs": [],
   "source": []
  }
 ],
 "metadata": {
  "kernelspec": {
   "display_name": ".venv",
   "language": "python",
   "name": "python3"
  },
  "language_info": {
   "codemirror_mode": {
    "name": "ipython",
    "version": 3
   },
   "file_extension": ".py",
   "mimetype": "text/x-python",
   "name": "python",
   "nbconvert_exporter": "python",
   "pygments_lexer": "ipython3",
   "version": "3.10.11"
  },
  "orig_nbformat": 4,
  "vscode": {
   "interpreter": {
    "hash": "4f106eb5257e3bc57ff0c2015d847e93c948825fabacd6b94c6dea85228ea98d"
   }
  }
 },
 "nbformat": 4,
 "nbformat_minor": 2
}
